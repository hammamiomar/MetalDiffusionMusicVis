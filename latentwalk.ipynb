{
 "cells": [
  {
   "cell_type": "code",
   "execution_count": 13,
   "metadata": {},
   "outputs": [],
   "source": [
    "import mlx.core as mx\n",
    "from tqdm import tqdm\n",
    "from PIL import Image\n",
    "import numpy as np\n",
    "\n",
    "import mlx.nn as nn\n",
    "from stable_diffusion import StableDiffusion"
   ]
  },
  {
   "cell_type": "code",
   "execution_count": 14,
   "metadata": {},
   "outputs": [],
   "source": [
    "def create_gif(image_array, output_path, fps=10):\n",
    "    \"\"\"\n",
    "    Create a GIF from an array of images.\n",
    "\n",
    "    Parameters:\n",
    "    - image_array: numpy array of shape (num_images, height, width, channels)\n",
    "    - output_path: string, the file path to save the output GIF\n",
    "    - fps: int, frames per second\n",
    "    \"\"\"\n",
    "    duration = int(1000 / fps)  # Convert fps to duration in milliseconds per frame\n",
    "    frames = [Image.fromarray(image_array[i].astype('uint8')) for i in range(image_array.shape[0])]\n",
    "    frames[0].save(output_path, save_all=True, append_images=frames[1:], duration=duration, loop=0)"
   ]
  },
  {
   "cell_type": "code",
   "execution_count": 15,
   "metadata": {},
   "outputs": [],
   "source": [
    "sd = StableDiffusion(\"stabilityai/stable-diffusion-2-1-base\",float16=True)\n",
    "nn.quantize(sd.text_encoder, class_predicate=lambda _, m: isinstance(m, nn.Linear))\n",
    "nn.quantize(sd.unet, group_size=32, bits=8)\n",
    "\n",
    "noises = sd._init_walk_noise(walk_steps=400,size=2)\n"
   ]
  },
  {
   "cell_type": "code",
   "execution_count": 16,
   "metadata": {},
   "outputs": [
    {
     "name": "stderr",
     "output_type": "stream",
     "text": [
      "100%|██████████| 400/400 [1:12:35<00:00, 10.89s/it]\n"
     ]
    }
   ],
   "source": [
    "images=[]\n",
    "\n",
    "for walk_step in tqdm(range(noises.shape[0])):\n",
    "    latent_generator = sd.generate_latents_from_noise(\n",
    "        \"bunny in a knife with a dark scary\",\n",
    "        noises[walk_step],\n",
    "        num_steps=10)\n",
    "    for x_t in latent_generator:\n",
    "        mx.eval(x_t)\n",
    "    im = sd.decode(x_t)\n",
    "    images.append(im)"
   ]
  },
  {
   "cell_type": "code",
   "execution_count": 17,
   "metadata": {},
   "outputs": [],
   "source": [
    "title=\"poop3\"\n",
    "imagesnp = np.array(images)\n",
    "imagesnp = np.squeeze(imagesnp,axis=1)\n",
    "imagesnp = (imagesnp * 255).astype(np.uint8)\n",
    "create_gif(imagesnp,f\"{title}.gif\",20)"
   ]
  },
  {
   "cell_type": "code",
   "execution_count": null,
   "metadata": {},
   "outputs": [],
   "source": []
  },
  {
   "cell_type": "code",
   "execution_count": null,
   "metadata": {},
   "outputs": [],
   "source": []
  }
 ],
 "metadata": {
  "kernelspec": {
   "display_name": "mlx",
   "language": "python",
   "name": "python3"
  },
  "language_info": {
   "codemirror_mode": {
    "name": "ipython",
    "version": 3
   },
   "file_extension": ".py",
   "mimetype": "text/x-python",
   "name": "python",
   "nbconvert_exporter": "python",
   "pygments_lexer": "ipython3",
   "version": "3.9.19"
  }
 },
 "nbformat": 4,
 "nbformat_minor": 2
}
